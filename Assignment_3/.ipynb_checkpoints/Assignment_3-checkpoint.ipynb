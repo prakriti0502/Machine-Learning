{
 "cells": [
  {
   "cell_type": "code",
   "execution_count": 3,
   "metadata": {},
   "outputs": [
    {
     "name": "stdout",
     "output_type": "stream",
     "text": [
      "P(B|A) is 0.0303030303030303\n"
     ]
    }
   ],
   "source": [
    "#Question 1\n",
    "'''\n",
    "Q.1 - Consider the below given probabilities: \n",
    "P(A) = 11 / 36\n",
    "P(B) = 6 / 36\n",
    "P(A|B) = 2 / 36\n",
    "Write a function in Python which takes 3 probabilities as argument and outputs the Conditional probability P(B|A).\n",
    "'''\n",
    "def fun(p1,p2,p3):\n",
    "    #p1 is P(A), p2 is P(B),p3 is P(A|B)\n",
    "    res = (p3*p2)/p1\n",
    "    print(\"P(B|A) is {}\".format(res))\n",
    "fun(11/36,6/36,2/36)"
   ]
  },
  {
   "cell_type": "code",
   "execution_count": 5,
   "metadata": {},
   "outputs": [
    {
     "name": "stdout",
     "output_type": "stream",
     "text": [
      "Let A be the event of choosing a black ball and B be the event of choosing bag I\n",
      "We've to find probability of choosing bag I given that balck ball is drawn, i.e. P(B|A)\n",
      "P(B|A) = (P(A|B)*P(B))/P(A) = ((6/10)*(1/2))/(((1/2)*(6/10))+((3/7)*(1/2))) = 7/12 = 0.583\n"
     ]
    }
   ],
   "source": [
    "#Question 2\n",
    "'''\n",
    "Q.2 - Bag I contains 4 white and 6 black balls while another Bag II contains 4 white and 3 black balls.\n",
    "One ball is drawn at random from one of the bags and it is found to be black.\n",
    "Find the probability that it was drawn from Bag I.\n",
    "'''\n",
    "print(\"Let A be the event of choosing a black ball and B be the event of choosing bag I\")\n",
    "print(\"We've to find probability of choosing bag I given that balck ball is drawn, i.e. P(B|A)\")\n",
    "print(\"P(B|A) = (P(A|B)*P(B))/P(A) = ((6/10)*(1/2))/(((1/2)*(6/10))+((3/7)*(1/2))) = 7/12 = 0.583\")"
   ]
  },
  {
   "cell_type": "code",
   "execution_count": 6,
   "metadata": {},
   "outputs": [
    {
     "name": "stdout",
     "output_type": "stream",
     "text": [
      "Probability that man speaks truth is 2/3 and probability of him lying is 1/3\n",
      "Probabiity of getting a 4 when he spoke truth is 1/6 and probability of getting a 4 when he lies is 5/6\n",
      "Therefore, P(He spoke truth|Four came on die) = \n",
      "(P(Four came on die|He spoke truth)*P(He spoke truth))/(P(Four came on die)) = \n",
      "(1/6*2/3)/((1/6*2/3)+(5/6*1/3)) = 2/7 = 0.286 \n"
     ]
    }
   ],
   "source": [
    "#Question 3\n",
    "'''\n",
    "Q.3 - A man is known to speak truth 2 out of 3 times.\n",
    "He throws a die and reports that number obtained is a four.\n",
    "Find the probability that the number obtained is actually a four.\n",
    "'''\n",
    "print(\"Probability that man speaks truth is 2/3 and probability of him lying is 1/3\")\n",
    "print(\"Probabiity of getting a 4 when he spoke truth is 1/6 and probability of getting a 4 when he lies is 5/6\")\n",
    "print('''Therefore, P(He spoke truth|Four came on die) = \n",
    "(P(Four came on die|He spoke truth)*P(He spoke truth))/(P(Four came on die)) = \n",
    "(1/6*2/3)/((1/6*2/3)+(5/6*1/3)) = 2/7 = 0.286 ''')"
   ]
  },
  {
   "cell_type": "code",
   "execution_count": null,
   "metadata": {},
   "outputs": [],
   "source": []
  }
 ],
 "metadata": {
  "kernelspec": {
   "display_name": "Python 3",
   "language": "python",
   "name": "python3"
  },
  "language_info": {
   "codemirror_mode": {
    "name": "ipython",
    "version": 3
   },
   "file_extension": ".py",
   "mimetype": "text/x-python",
   "name": "python",
   "nbconvert_exporter": "python",
   "pygments_lexer": "ipython3",
   "version": "3.6.5"
  }
 },
 "nbformat": 4,
 "nbformat_minor": 2
}
